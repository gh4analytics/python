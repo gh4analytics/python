{
 "cells": [
  {
   "cell_type": "markdown",
   "metadata": {},
   "source": [
    "# Project Description\n",
    "\n",
    "### Project Context\n",
    "HR department of a large software company wanted to predict the list of employees who are likely to leave. This initiative is as part of \"Proactive Retention\" program. Once the employees who are likely to leave are identified, HR can be more proactive in reaching out to them before it'stoo late. For this initiate they only care about permanent emplyees.\n",
    "\n",
    "### Current Solution\n",
    "Currently, company's employee retention process is very retroactive. Once an employee leaves, he/she takes an exit interview and shares the reason for leaving. HR then tries to learn insights from that interview and make changes in the company accordingly. This method suffers 3 main problems:\n",
    "1. The quality of insight gained from interview depends heavily on skill of the interviewer.\n",
    "2. They can't systematically aggregate insights across all employees who have left.\n",
    "3. They can't be proactive because they are using exit interviews to drive policy changes.\n",
    "\n",
    "### Role\n",
    "Data scientist is to supplement the exit interviews with a more proactive approach. Task is to build a classification model using the historical data.\n",
    "\n",
    "### Problem Specifics\n",
    "1. Machine Learning Task: Classification\n",
    "2. Target Variables: Status (Employed/Left)\n",
    "2. Win Condition: Best possible model"
   ]
  },
  {
   "cell_type": "code",
   "execution_count": null,
   "metadata": {
    "collapsed": true
   },
   "outputs": [],
   "source": []
  }
 ],
 "metadata": {
  "kernelspec": {
   "display_name": "Python 3",
   "language": "python",
   "name": "python3"
  },
  "language_info": {
   "codemirror_mode": {
    "name": "ipython",
    "version": 3
   },
   "file_extension": ".py",
   "mimetype": "text/x-python",
   "name": "python",
   "nbconvert_exporter": "python",
   "pygments_lexer": "ipython3",
   "version": "3.6.3"
  }
 },
 "nbformat": 4,
 "nbformat_minor": 2
}
