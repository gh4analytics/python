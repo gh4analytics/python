{
 "cells": [
  {
   "cell_type": "markdown",
   "metadata": {},
   "source": [
    "# Real Estate Price Prediction"
   ]
  },
  {
   "cell_type": "markdown",
   "metadata": {},
   "source": [
    "## Business Case\n",
    "A Real Estate Investment Agent (REIA) who is doing business within a small county in New York by buying properties from people and selling it back to their customers. They invest in houses, apartments and condos.  As part of the business, they wanted to predict the fair price of a property before it is sold. This is to caliberate their internal pricing models and keep a pulse on the market. "
   ]
  },
  {
   "cell_type": "markdown",
   "metadata": {},
   "source": [
    "## Existing System\n",
    "Currently they uses a third party appraisal service for evaluating the price of the property. Appraisers are professionals who visit a property and estimate a fair price using their own experience. \n",
    "\n",
    "### Problem with existing system\n",
    "Unfortunately, the skill levels of appraisers vary greatly. It was identified that estimates given by inexperienced appraisers were off by $70,000 on average\n"
   ]
  },
  {
   "cell_type": "markdown",
   "metadata": {},
   "source": [
    "## Our Role\n",
    "Our role is to build a real-estate pricing model using the historic data available with REIA. We need to build a model to predict transaction prices with an average error of under $70,000."
   ]
  },
  {
   "cell_type": "markdown",
   "metadata": {},
   "source": [
    "## Problem Specifics\n",
    "Deliverable: Trained model file \n",
    "\n",
    "Machine Learning Task: Regression\n",
    "\n",
    "Target Variable: Transaction Price\n",
    "\n",
    "Win Condition: Avg. price error < $70,000"
   ]
  },
  {
   "cell_type": "code",
   "execution_count": null,
   "metadata": {
    "collapsed": true
   },
   "outputs": [],
   "source": []
  }
 ],
 "metadata": {
  "kernelspec": {
   "display_name": "Python 3",
   "language": "python",
   "name": "python3"
  },
  "language_info": {
   "codemirror_mode": {
    "name": "ipython",
    "version": 3
   },
   "file_extension": ".py",
   "mimetype": "text/x-python",
   "name": "python",
   "nbconvert_exporter": "python",
   "pygments_lexer": "ipython3",
   "version": "3.6.3"
  }
 },
 "nbformat": 4,
 "nbformat_minor": 2
}
